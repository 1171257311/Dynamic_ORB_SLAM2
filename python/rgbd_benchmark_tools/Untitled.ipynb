{
 "cells": [
  {
   "cell_type": "code",
   "execution_count": 1,
   "metadata": {},
   "outputs": [],
   "source": [
    "#!/usr/bin/python\n",
    "# Software License Agreement (BSD License)\n",
    "#\n",
    "# Copyright (c) 2013, Juergen Sturm, TUM\n",
    "# All rights reserved.\n",
    "#\n",
    "# Redistribution and use in source and binary forms, with or without\n",
    "# modification, are permitted provided that the following conditions\n",
    "# are met:\n",
    "#\n",
    "#  * Redistributions of source code must retain the above copyright\n",
    "#    notice, this list of conditions and the following disclaimer.\n",
    "#  * Redistributions in binary form must reproduce the above\n",
    "#    copyright notice, this list of conditions and the following\n",
    "#    disclaimer in the documentation and/or other materials provided\n",
    "#    with the distribution.\n",
    "#  * Neither the name of TUM nor the names of its\n",
    "#    contributors may be used to endorse or promote products derived\n",
    "#    from this software without specific prior written permission.\n",
    "#\n",
    "# THIS SOFTWARE IS PROVIDED BY THE COPYRIGHT HOLDERS AND CONTRIBUTORS\n",
    "# \"AS IS\" AND ANY EXPRESS OR IMPLIED WARRANTIES, INCLUDING, BUT NOT\n",
    "# LIMITED TO, THE IMPLIED WARRANTIES OF MERCHANTABILITY AND FITNESS\n",
    "# FOR A PARTICULAR PURPOSE ARE DISCLAIMED. IN NO EVENT SHALL THE\n",
    "# COPYRIGHT OWNER OR CONTRIBUTORS BE LIABLE FOR ANY DIRECT, INDIRECT,\n",
    "# INCIDENTAL, SPECIAL, EXEMPLARY, OR CONSEQUENTIAL DAMAGES (INCLUDING,\n",
    "# BUT NOT LIMITED TO, PROCUREMENT OF SUBSTITUTE GOODS OR SERVICES;\n",
    "# LOSS OF USE, DATA, OR PROFITS; OR BUSINESS INTERRUPTION) HOWEVER\n",
    "# CAUSED AND ON ANY THEORY OF LIABILITY, WHETHER IN CONTRACT, STRICT\n",
    "# LIABILITY, OR TORT (INCLUDING NEGLIGENCE OR OTHERWISE) ARISING IN\n",
    "# ANY WAY OUT OF THE USE OF THIS SOFTWARE, EVEN IF ADVISED OF THE\n",
    "# POSSIBILITY OF SUCH DAMAGE.\n",
    "#\n",
    "# Requirements: \n",
    "# sudo apt-get install python-argparse\n",
    "\n",
    "\"\"\"\n",
    "This script computes the absolute trajectory error from the ground truth\n",
    "trajectory and the estimated trajectory.\n",
    "\"\"\"\n",
    "\n",
    "import sys\n",
    "import numpy\n",
    "import argparse\n",
    "import associate\n",
    "\n",
    "def align(model,data):\n",
    "    \"\"\"Align two trajectories using the method of Horn (closed-form).\n",
    "    \n",
    "    Input:\n",
    "    model -- first trajectory (3xn)\n",
    "    data -- second trajectory (3xn)\n",
    "    \n",
    "    Output:\n",
    "    rot -- rotation matrix (3x3)\n",
    "    trans -- translation vector (3x1)\n",
    "    trans_error -- translational error per point (1xn)\n",
    "    \n",
    "    \"\"\"\n",
    "    numpy.set_printoptions(precision=3,suppress=True)\n",
    "    model_zerocentered = model - model.mean(1)\n",
    "    data_zerocentered = data - data.mean(1)\n",
    "    \n",
    "    W = numpy.zeros( (3,3) )\n",
    "    for column in range(model.shape[1]):\n",
    "        W += numpy.outer(model_zerocentered[:,column],data_zerocentered[:,column])\n",
    "    U,d,Vh = numpy.linalg.linalg.svd(W.transpose())\n",
    "    S = numpy.matrix(numpy.identity( 3 ))\n",
    "    if(numpy.linalg.det(U) * numpy.linalg.det(Vh)<0):\n",
    "        S[2,2] = -1\n",
    "    rot = U*S*Vh\n",
    "    trans = data.mean(1) - rot * model.mean(1)\n",
    "    \n",
    "    model_aligned = rot * model + trans\n",
    "    alignment_error = model_aligned - data\n",
    "    \n",
    "    trans_error = numpy.sqrt(numpy.sum(numpy.multiply(alignment_error,alignment_error),0)).A[0]\n",
    "        \n",
    "    return rot,trans,trans_error\n",
    "\n",
    "def plot_traj(ax,stamps,traj,style,color,label):\n",
    "    \"\"\"\n",
    "    Plot a trajectory using matplotlib. \n",
    "    \n",
    "    Input:\n",
    "    ax -- the plot\n",
    "    stamps -- time stamps (1xn)\n",
    "    traj -- trajectory (3xn)\n",
    "    style -- line style\n",
    "    color -- line color\n",
    "    label -- plot legend\n",
    "    \n",
    "    \"\"\"\n",
    "    stamps.sort()\n",
    "    interval = numpy.median([s-t for s,t in zip(stamps[1:],stamps[:-1])])\n",
    "    x = []\n",
    "    y = []\n",
    "    last = stamps[0]\n",
    "    for i in range(len(stamps)):\n",
    "        if stamps[i]-last < 2*interval:\n",
    "            x.append(traj[i][0])\n",
    "            y.append(traj[i][1])\n",
    "        elif len(x)>0:\n",
    "            ax.plot(x,y,style,color=color,label=label)\n",
    "            label=\"\"\n",
    "            x=[]\n",
    "            y=[]\n",
    "        last= stamps[i]\n",
    "    if len(x)>0:\n",
    "        ax.plot(x,y,style,color=color,label=label)\n",
    "            \n"
   ]
  },
  {
   "cell_type": "code",
   "execution_count": 2,
   "metadata": {},
   "outputs": [],
   "source": [
    "import matplotlib\n",
    "matplotlib.use('Agg')\n",
    "import matplotlib.pyplot as plt\n",
    "import matplotlib.pylab as pylab\n",
    "from matplotlib.patches import Ellipse\n",
    "%matplotlib inline"
   ]
  },
  {
   "cell_type": "code",
   "execution_count": 3,
   "metadata": {},
   "outputs": [],
   "source": [
    "def calculate_traj(first_file, second_file):\n",
    "    \n",
    "    first_list = associate.read_file_list(first_file)\n",
    "    second_list = associate.read_file_list(second_file)\n",
    "\n",
    "\n",
    "    matches = associate.associate(first_list, second_list,float(offset),float(max_difference))    \n",
    "    if len(matches)<2:\n",
    "        sys.exit(\"Couldn't find matching timestamp pairs between groundtruth and estimated trajectory! Did you choose the correct sequence?\")\n",
    "\n",
    "\n",
    "    first_xyz = numpy.matrix([[float(value) for value in first_list[a][0:3]] for a,b in matches]).transpose()\n",
    "    second_xyz = numpy.matrix([[float(value)*float(scale) for value in second_list[b][0:3]] for a,b in matches]).transpose()\n",
    "    rot,trans,trans_error = align(second_xyz,first_xyz)\n",
    "\n",
    "    second_xyz_aligned = rot * second_xyz + trans\n",
    "\n",
    "    first_stamps = first_list.keys()\n",
    "    first_stamps.sort()\n",
    "    first_xyz_full = numpy.matrix([[float(value) for value in first_list[b][0:3]] for b in first_stamps]).transpose()\n",
    "\n",
    "    second_stamps = second_list.keys()\n",
    "    second_stamps.sort()\n",
    "    second_xyz_full = numpy.matrix([[float(value)*float(scale) for value in second_list[b][0:3]] for b in second_stamps]).transpose()\n",
    "    second_xyz_full_aligned = rot * second_xyz_full + trans\n",
    "    error = numpy.sqrt(numpy.dot(trans_error,trans_error) / len(trans_error))\n",
    "    return error, second_stamps, second_xyz_full_aligned"
   ]
  },
  {
   "cell_type": "code",
   "execution_count": 34,
   "metadata": {},
   "outputs": [],
   "source": [
    "scale=1.0\n",
    "offset=0\n",
    "max_difference=0.02\n",
    "\n",
    "first_file = \"/home/horacehxw/Data/TUM/rgbd_dataset_freiburg3_sitting_xyz/groundtruth.txt\"\n",
    "orb_file =  \"/home/horacehxw/VMware_share/Experiments/trajectories/s_xyz_rgbd_ORB.txt\"\n",
    "dyna_file = \"/home/horacehxw/VMware_share/Experiments/trajectories/s_xyz_rgbd_Dynamic.txt\"\n",
    "\n",
    "first_list = associate.read_file_list(first_file)\n",
    "first_stamps = first_list.keys()\n",
    "first_stamps.sort()\n",
    "first_xyz_full = numpy.matrix([[float(value) for value in first_list[b][0:3]] for b in first_stamps]).transpose()\n"
   ]
  },
  {
   "cell_type": "markdown",
   "metadata": {},
   "source": [
    "first_list = associate.read_file_list(first_file)\n",
    "second_list = associate.read_file_list(dyna_file)\n",
    "\n",
    "matches = associate.associate(first_list, second_list,float(offset),float(max_difference))    \n",
    "if len(matches)<2:\n",
    "    sys.exit(\"Couldn't find matching timestamp pairs between groundtruth and estimated trajectory! Did you choose the correct sequence?\")\n",
    "\n",
    "\n",
    "first_xyz = numpy.matrix([[float(value) for value in first_list[a][0:3]] for a,b in matches]).transpose()\n",
    "second_xyz = numpy.matrix([[float(value)*float(scale) for value in second_list[b][0:3]] for a,b in matches]).transpose()\n",
    "rot,trans,trans_error = align(second_xyz,first_xyz)\n",
    "\n",
    "second_xyz_aligned = rot * second_xyz + trans\n",
    "\n",
    "first_stamps = first_list.keys()\n",
    "first_stamps.sort()\n",
    "first_xyz_full = numpy.matrix([[float(value) for value in first_list[b][0:3]] for b in first_stamps]).transpose()\n",
    "\n",
    "second_stamps = second_list.keys()\n",
    "second_stamps.sort()\n",
    "second_xyz_full = numpy.matrix([[float(value)*float(scale) for value in second_list[b][0:3]] for b in second_stamps]).transpose()\n",
    "second_xyz_full_aligned = rot * second_xyz_full + trans"
   ]
  },
  {
   "cell_type": "code",
   "execution_count": 35,
   "metadata": {},
   "outputs": [],
   "source": [
    "error_orb, time_orb, traj_orb = calculate_traj(first_file, orb_file)"
   ]
  },
  {
   "cell_type": "code",
   "execution_count": 36,
   "metadata": {},
   "outputs": [],
   "source": [
    "error_dyna, time_dyna, traj_dyna = calculate_traj(first_file, dyna_file)"
   ]
  },
  {
   "cell_type": "code",
   "execution_count": 37,
   "metadata": {},
   "outputs": [
    {
     "data": {
      "text/plain": [
       "(0.009131589090620097, 0.011903629559114202)"
      ]
     },
     "execution_count": 37,
     "metadata": {},
     "output_type": "execute_result"
    }
   ],
   "source": [
    "error_orb, error_dyna"
   ]
  },
  {
   "cell_type": "code",
   "execution_count": 39,
   "metadata": {},
   "outputs": [
    {
     "data": {
      "image/png": "[encoded data removed]",
      "text/plain": [
       "<Figure size 432x288 with 1 Axes>"
      ]
     },
     "metadata": {
      "needs_background": "light"
     },
     "output_type": "display_data"
    }
   ],
   "source": [
    "fig = plt.figure()\n",
    "ax = fig.add_subplot(111)\n",
    "plot_traj(ax,first_stamps,first_xyz_full.transpose().A,'-',\"black\",\"ground truth\")\n",
    "plot_traj(ax,time_orb,traj_orb.transpose().A,'-',\"red\",\"ORB-SLAM2\")\n",
    "plot_traj(ax,time_dyna,traj_dyna.transpose().A,'-',\"green\",\"Modified SLAM\")\n",
    "\n",
    "\n",
    "ax.legend()\n",
    "ax.set_title(\"sitting_xyz\")\n",
    "ax.set_xlabel('x [m]')\n",
    "ax.set_ylabel('y [m]')\n",
    "plt.show()\n",
    "#plt.savefig(args.plot,dpi=90)"
   ]
  },
  {
   "cell_type": "code",
   "execution_count": null,
   "metadata": {},
   "outputs": [],
   "source": []
  }
 ],
 "metadata": {
  "kernelspec": {
   "display_name": "Python 2",
   "language": "python",
   "name": "python2"
  },
  "language_info": {
   "codemirror_mode": {
    "name": "ipython",
    "version": 2
   },
   "file_extension": ".py",
   "mimetype": "text/x-python",
   "name": "python",
   "nbconvert_exporter": "python",
   "pygments_lexer": "ipython2",
   "version": "2.7.16"
  }
 },
 "nbformat": 4,
 "nbformat_minor": 2
}
